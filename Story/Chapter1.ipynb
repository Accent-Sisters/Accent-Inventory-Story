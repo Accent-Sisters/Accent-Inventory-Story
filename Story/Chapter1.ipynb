{
 "cells": [
  {
   "cell_type": "markdown",
   "id": "ac2e0df3",
   "metadata": {},
   "source": [
    "## → Chapter One\n",
    "#### Alison Faces the Big Bookshelves, The Sisyphean Struggle Begins  \n",
    "\n",
    "🔺In the spring, the Accent Sisters, a bookstore carrying multilingual literary and art books, assigned me to reconcile their physical inventory with their digital inventory on Shopify. Initially, the store manager introduced me to their Shopify inventory and asked me to take each book from the shelves, verify their quantities on Shopify, count duplicates manually, and update any inaccuracies.\n",
    "\n",
    "🔺However, the reality was daunting: the shelves were completely disorganized, books were constantly rearranged by different staff members, and books were actively being purchased. Additionally, the Shopify inventory was highly inaccurate and unreliable due to improper usage of the POS machine and insufficient record-keeping of sales. Although there were only two large bookshelves, manually counting and verifying each book quickly became a Sisyphean task—error-prone, impractical, and frequently interrupted by daily store activities.\n",
    "\n",
    "----\n",
    "\n",
    "\n",
    "## → 第一回\n",
    "##### 阿里山初探乱书阁 西西弗斯书山受难  \n",
    "\n",
    "🔺春季时，Accent Sisters书店（以售卖多语言文学和艺术类书籍为主）交给我一个任务：将实体库存与Shopify上的线上库存核对统一。店经理最初告诉我，只需将每本书从书架上取下，逐本核对Shopify上的记录，手动统计实体书店里的书籍副本数量，并更新线上记录中的错误信息。\n",
    "\n",
    "🔺但当我真正开始工作时才发现，这两大书架上的书籍毫无秩序可言，不仅频繁被不同店员随意重新摆放，还有顾客不断购买。此外，Shopify库存记录也并不可靠，因为店员们长期未正确使用POS机，也未认真记录售出书籍的具体信息。因此，即便只是两大书架的书籍，手动统计核对的过程也变得如同西西弗斯般艰难：容易出错、极不现实，还总是被店里日常的各种事务所中断。\n"
   ]
  }
 ],
 "metadata": {
  "language_info": {
   "name": "python"
  }
 },
 "nbformat": 4,
 "nbformat_minor": 5
}
